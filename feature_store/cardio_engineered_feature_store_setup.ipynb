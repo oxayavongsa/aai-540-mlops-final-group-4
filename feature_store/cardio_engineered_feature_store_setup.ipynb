{
 "cells": [
  {
   "cell_type": "markdown",
   "id": "611e5f3d-fedf-4d48-a198-0058efdbcb57",
   "metadata": {},
   "source": [
    "# Create Feature Store & Groups"
   ]
  },
  {
   "cell_type": "code",
   "execution_count": 12,
   "id": "37ecd780-483c-4143-a46f-2998299d28ac",
   "metadata": {
    "execution": {
     "iopub.execute_input": "2025-06-15T18:21:29.107938Z",
     "iopub.status.busy": "2025-06-15T18:21:29.107608Z",
     "iopub.status.idle": "2025-06-15T18:21:30.785915Z",
     "shell.execute_reply": "2025-06-15T18:21:30.785045Z",
     "shell.execute_reply.started": "2025-06-15T18:21:29.107915Z"
    }
   },
   "outputs": [],
   "source": [
    "# Install Libraries\n",
    "!pip install boto3 sagemaker pandas --quiet"
   ]
  },
  {
   "cell_type": "code",
   "execution_count": 13,
   "id": "b5ef8246-d33c-4592-aa85-accf9b2cb2aa",
   "metadata": {
    "execution": {
     "iopub.execute_input": "2025-06-15T18:21:30.788237Z",
     "iopub.status.busy": "2025-06-15T18:21:30.787837Z",
     "iopub.status.idle": "2025-06-15T18:21:30.792798Z",
     "shell.execute_reply": "2025-06-15T18:21:30.791922Z",
     "shell.execute_reply.started": "2025-06-15T18:21:30.788211Z"
    }
   },
   "outputs": [],
   "source": [
    "# Import Libraries\n",
    "from datetime import datetime, timezone\n",
    "import pandas as pd\n",
    "import matplotlib.pyplot as plt\n",
    "import boto3\n",
    "import sagemaker\n",
    "from sagemaker.feature_store.feature_group import FeatureGroup\n",
    "from sagemaker.session import Session\n",
    "import time\n",
    "\n",
    "# Suppress specific DeprecationWarning\n",
    "import warnings\n",
    "warnings.filterwarnings(\"ignore\", category=DeprecationWarning)"
   ]
  },
  {
   "cell_type": "markdown",
   "id": "9ce495f9-d5f3-4d48-94cb-de21141caad4",
   "metadata": {},
   "source": [
    "### Feature Store Environment"
   ]
  },
  {
   "cell_type": "code",
   "execution_count": 14,
   "id": "27ebc4cd-4667-4439-ab92-6ff3a1de5586",
   "metadata": {
    "execution": {
     "iopub.execute_input": "2025-06-15T18:21:31.829704Z",
     "iopub.status.busy": "2025-06-15T18:21:31.829227Z",
     "iopub.status.idle": "2025-06-15T18:21:32.671178Z",
     "shell.execute_reply": "2025-06-15T18:21:32.670514Z",
     "shell.execute_reply.started": "2025-06-15T18:21:31.829680Z"
    }
   },
   "outputs": [],
   "source": [
    "# Feature Store Setup: Environment Initialization & Data Preparation\n",
    "# Initialize SageMaker session and role\n",
    "region = sagemaker.Session().boto_region_name\n",
    "boto_session = boto3.Session(region_name=region)\n",
    "sagemaker_client = boto_session.client(\"sagemaker\")\n",
    "sagemaker_session = sagemaker.Session(boto_session=boto_session, sagemaker_client=sagemaker_client)\n",
    "role = sagemaker.get_execution_role()\n",
    "\n",
    "# Constants\n",
    "bucket = sagemaker_session.default_bucket()\n",
    "prefix = \"sagemaker/feature-store/cardio\"\n",
    "s3_uri = f\"s3://{bucket}/{prefix}/\"\n",
    "feature_group_base = \"cardio\"\n",
    "\n",
    "# Load engineered dataset\n",
    "df = pd.read_csv(\"cardio_engineered.csv\")\n",
    "\n",
    "# Ensure 'id' exists and is unique\n",
    "if 'id' not in df.columns:\n",
    "    df[\"id\"] = range(1, len(df) + 1)\n",
    "assert df['id'].is_unique, \"The 'id' column must contain unique values.\"\n",
    "\n",
    "# Add event_time column using timezone-aware timestamp\n",
    "df[\"event_time\"] = datetime.now(timezone.utc).strftime(\"%Y-%m-%dT%H:%M:%SZ\")\n",
    "\n",
    "# Drop duplicate records\n",
    "df = df.drop_duplicates(subset=[\"id\"])"
   ]
  },
  {
   "cell_type": "markdown",
   "id": "47ed2d9e-4500-49b6-bd33-38be5aeddc3a",
   "metadata": {},
   "source": [
    "### Feature Group Creation & Ingestion"
   ]
  },
  {
   "cell_type": "code",
   "execution_count": 15,
   "id": "cc71ca56-230c-47d5-aa15-4f81f3891725",
   "metadata": {
    "execution": {
     "iopub.execute_input": "2025-06-15T18:21:34.550388Z",
     "iopub.status.busy": "2025-06-15T18:21:34.549776Z",
     "iopub.status.idle": "2025-06-15T18:21:34.554533Z",
     "shell.execute_reply": "2025-06-15T18:21:34.553651Z",
     "shell.execute_reply.started": "2025-06-15T18:21:34.550361Z"
    }
   },
   "outputs": [
    {
     "name": "stdout",
     "output_type": "stream",
     "text": [
      "['age', 'gender', 'height_ft', 'weight_lbs', 'systolic_bp', 'diastolic_bp', 'cholesterol', 'gluc', 'smoke', 'alco', 'active', 'cardio', 'bmi', 'age_group', 'cholesterol_label', 'pulse_pressure', 'chol_bmi_ratio', 'height_in', 'age_years', 'is_hypertensive', 'bp_category', 'bmi_category', 'age_gluc_interaction', 'lifestyle_score', 'id', 'event_time']\n"
     ]
    }
   ],
   "source": [
    "# Display all column names\n",
    "print(df.columns.tolist())"
   ]
  },
  {
   "cell_type": "markdown",
   "id": "32d4216c-7758-4dbf-8745-2606e461e1ad",
   "metadata": {},
   "source": [
    "#### Run this code to delete old features groups (Only if needed)"
   ]
  },
  {
   "cell_type": "code",
   "execution_count": 17,
   "id": "631b9c71-c57a-485c-8dfd-0bf6f578fc25",
   "metadata": {
    "execution": {
     "iopub.execute_input": "2025-06-15T18:23:09.474932Z",
     "iopub.status.busy": "2025-06-15T18:23:09.474583Z",
     "iopub.status.idle": "2025-06-15T18:23:13.733399Z",
     "shell.execute_reply": "2025-06-15T18:23:13.732643Z",
     "shell.execute_reply.started": "2025-06-15T18:23:09.474908Z"
    }
   },
   "outputs": [
    {
     "name": "stdout",
     "output_type": "stream",
     "text": [
      "Deleting feature group: cardio-demographics\n",
      "Deleting feature group: cardio-vitals\n",
      "Deleting feature group: cardio-labs-lifestyle\n",
      "Deleting feature group: cardio-target\n"
     ]
    }
   ],
   "source": [
    "# Delete Feature Group (Run if you want to restart)\n",
    "# Setup\n",
    "sagemaker_session = Session()\n",
    "region = sagemaker_session.boto_region_name\n",
    "featurestore_runtime = boto3.client(\"sagemaker-featurestore-runtime\", region_name=region)\n",
    "sagemaker_client = boto3.client(\"sagemaker\", region_name=region)\n",
    "\n",
    "# List of your feature group names\n",
    "feature_groups_to_delete = [\n",
    "    \"cardio-demographics\",\n",
    "    \"cardio-vitals\",\n",
    "    \"cardio-labs-lifestyle\",\n",
    "    \"cardio-target\"\n",
    "]\n",
    "\n",
    "# Delete loop\n",
    "for fg_name in feature_groups_to_delete:\n",
    "    try:\n",
    "        print(f\"Deleting feature group: {fg_name}\")\n",
    "        sagemaker_client.delete_feature_group(FeatureGroupName=fg_name)\n",
    "    except Exception as e:\n",
    "        print(f\"Failed to delete {fg_name}: {e}\")"
   ]
  },
  {
   "cell_type": "code",
   "execution_count": 18,
   "id": "59198687-ecb6-4ae2-afaa-5bbfbdfa4737",
   "metadata": {
    "execution": {
     "iopub.execute_input": "2025-06-15T18:23:39.098327Z",
     "iopub.status.busy": "2025-06-15T18:23:39.097976Z",
     "iopub.status.idle": "2025-06-15T18:41:59.274193Z",
     "shell.execute_reply": "2025-06-15T18:41:59.273397Z",
     "shell.execute_reply.started": "2025-06-15T18:23:39.098304Z"
    }
   },
   "outputs": [
    {
     "name": "stdout",
     "output_type": "stream",
     "text": [
      "Creating Feature Group: cardio-demographics\n",
      "⏳ Waiting for cardio-demographics → Current status: Creating\n",
      "⏳ Waiting for cardio-demographics → Current status: Creating\n",
      "⏳ Waiting for cardio-demographics → Current status: Created\n",
      "Feature group 'cardio-demographics' is now active.\n",
      "Ingestion completed for: cardio-demographics\n",
      "Creating Feature Group: cardio-vitals\n",
      "⏳ Waiting for cardio-vitals → Current status: Creating\n",
      "⏳ Waiting for cardio-vitals → Current status: Creating\n",
      "⏳ Waiting for cardio-vitals → Current status: Created\n",
      "Feature group 'cardio-vitals' is now active.\n",
      "Ingestion completed for: cardio-vitals\n",
      "Creating Feature Group: cardio-labs-lifestyle\n",
      "⏳ Waiting for cardio-labs-lifestyle → Current status: Creating\n",
      "⏳ Waiting for cardio-labs-lifestyle → Current status: Creating\n",
      "⏳ Waiting for cardio-labs-lifestyle → Current status: Created\n",
      "Feature group 'cardio-labs-lifestyle' is now active.\n",
      "Ingestion completed for: cardio-labs-lifestyle\n",
      "Creating Feature Group: cardio-target\n",
      "⏳ Waiting for cardio-target → Current status: Creating\n",
      "⏳ Waiting for cardio-target → Current status: Creating\n",
      "⏳ Waiting for cardio-target → Current status: Created\n",
      "Feature group 'cardio-target' is now active.\n",
      "Ingestion completed for: cardio-target\n"
     ]
    }
   ],
   "source": [
    "# Define logical groupings of features to match engineered dataset\n",
    "feature_groups_definitions = {\n",
    "    f\"{feature_group_base}-demographics\": [\n",
    "        \"id\", \"age\", \"gender\", \"age_group\", \"event_time\"\n",
    "    ],\n",
    "    f\"{feature_group_base}-vitals\": [\n",
    "        \"id\", \"height_ft\", \"height_in\", \"weight_lbs\", \"bmi\", \"systolic_bp\",\n",
    "        \"diastolic_bp\", \"pulse_pressure\", \"is_hypertensive\", \"bp_category\", \"bmi_category\", \"event_time\"\n",
    "    ],\n",
    "    f\"{feature_group_base}-labs-lifestyle\": [\n",
    "        \"id\", \"cholesterol\", \"gluc\", \"smoke\", \"alco\", \"active\",\n",
    "        \"chol_bmi_ratio\", \"age_gluc_interaction\", \"lifestyle_score\", \"cholesterol_label\", \"event_time\"\n",
    "    ],\n",
    "    f\"{feature_group_base}-target\": [\n",
    "        \"id\", \"cardio\", \"event_time\"\n",
    "    ]\n",
    "}\n",
    "\n",
    "# Create and ingest each feature group\n",
    "for group_name, features in feature_groups_definitions.items():\n",
    "    print(f\"Creating Feature Group: {group_name}\")\n",
    "    fg = FeatureGroup(name=group_name, sagemaker_session=sagemaker_session)\n",
    "\n",
    "    try:\n",
    "        fg.describe()\n",
    "        print(f\"Feature group '{group_name}' already exists. Skipping creation.\")\n",
    "        continue\n",
    "    except Exception:\n",
    "        pass  # Proceed if the feature group does not exist\n",
    "\n",
    "    fg.load_feature_definitions(data_frame=df[features])\n",
    "\n",
    "    fg.create(\n",
    "        s3_uri=s3_uri,\n",
    "        record_identifier_name=\"id\",\n",
    "        event_time_feature_name=\"event_time\",\n",
    "        role_arn=role,\n",
    "        enable_online_store=True\n",
    "    )\n",
    "\n",
    "    # Wait until the feature group is active\n",
    "    status = None\n",
    "    while status != \"Created\":\n",
    "        status = fg.describe().get(\"FeatureGroupStatus\")\n",
    "        print(f\"⏳ Waiting for {group_name} → Current status: {status}\")\n",
    "        time.sleep(15)\n",
    "\n",
    "    print(f\"Feature group '{group_name}' is now active.\")\n",
    "\n",
    "    # Ingest the data\n",
    "    fg.ingest(data_frame=df[features], max_workers=3, wait=True)\n",
    "    print(f\"Ingestion completed for: {group_name}\")"
   ]
  },
  {
   "cell_type": "markdown",
   "id": "02ceb486-1346-4cea-a07e-748e5c79de53",
   "metadata": {},
   "source": [
    "These feature groups were created to organize the dataset into meaningful clinical categories that support interpretability and modularity. The demographics group contains age, gender, and age group, which are fundamental population risk indicators. The vitals group includes physical health metrics like height, weight, BMI, blood pressure, pulse pressure, and a hypertension flag, which are key signals for cardiovascular stress. The labs and lifestyle group captures metabolic and behavioral factors such as cholesterol, glucose, smoking, alcohol use, activity level, and engineered ratios like cholesterol-to-BMI and a lifestyle risk score. The target group holds the outcome label for cardiovascular disease. Structuring the data this way enables easier experimentation, model explainability, and scalable management of features across development and production."
   ]
  },
  {
   "cell_type": "markdown",
   "id": "1df507e1-a56d-42b0-9dad-0d2418328b80",
   "metadata": {},
   "source": [
    "#### Preview Query via Athena"
   ]
  },
  {
   "cell_type": "code",
   "execution_count": null,
   "id": "a93c6e5f-6cb0-4e69-9330-a79e88e0208b",
   "metadata": {
    "execution": {
     "iopub.status.busy": "2025-06-15T18:16:21.306443Z",
     "iopub.status.idle": "2025-06-15T18:16:21.306698Z",
     "shell.execute_reply": "2025-06-15T18:16:21.306587Z",
     "shell.execute_reply.started": "2025-06-15T18:16:21.306577Z"
    }
   },
   "outputs": [],
   "source": [
    "# Query any feature group via Athena\n",
    "# Initialize\n",
    "query_fg = FeatureGroup(name=\"cardio-target\", sagemaker_session=sagemaker_session)\n",
    "\n",
    "# Start Athena query\n",
    "query = query_fg.athena_query()\n",
    "table_name = query.table_name  # Auto-resolves the Glue table\n",
    "\n",
    "# Define the query string\n",
    "query_string = f'SELECT * FROM \"{table_name}\" LIMIT 10;'\n",
    "\n",
    "# Define the S3 output path for Athena results\n",
    "output_location = f's3://{bucket}/athena-results/'\n",
    "\n",
    "# Run the query\n",
    "query.run(query_string=query_string, output_location=output_location)\n",
    "query.wait()\n",
    "\n",
    "# Convert results to DataFrame\n",
    "df_results = query.as_dataframe()\n",
    "df_results.head()"
   ]
  },
  {
   "cell_type": "code",
   "execution_count": null,
   "id": "5c6fb275-8d2c-4862-a63b-6e52e5b120af",
   "metadata": {
    "execution": {
     "iopub.status.busy": "2025-06-15T17:58:48.469188Z",
     "iopub.status.idle": "2025-06-15T17:58:48.469897Z",
     "shell.execute_reply": "2025-06-15T17:58:48.469716Z",
     "shell.execute_reply.started": "2025-06-15T17:58:48.469698Z"
    }
   },
   "outputs": [],
   "source": [
    "# Save feature group to S3\n",
    "!aws s3 cp cardio_engineered_feature_store_setup.ipynb s3://sagemaker-us-east-1-226675648827/sagemaker/feature-store/cardio_engineered_feature_store_setup.ipynb"
   ]
  }
 ],
 "metadata": {
  "kernelspec": {
   "display_name": "Python 3 (ipykernel)",
   "language": "python",
   "name": "python3"
  },
  "language_info": {
   "codemirror_mode": {
    "name": "ipython",
    "version": 3
   },
   "file_extension": ".py",
   "mimetype": "text/x-python",
   "name": "python",
   "nbconvert_exporter": "python",
   "pygments_lexer": "ipython3",
   "version": "3.12.9"
  }
 },
 "nbformat": 4,
 "nbformat_minor": 5
}
