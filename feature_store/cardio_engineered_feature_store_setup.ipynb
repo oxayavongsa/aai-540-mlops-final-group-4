{
 "cells": [
  {
   "cell_type": "markdown",
   "id": "611e5f3d-fedf-4d48-a198-0058efdbcb57",
   "metadata": {},
   "source": [
    "## Create Feature Store and Feature Groups"
   ]
  },
  {
   "cell_type": "code",
   "execution_count": 1,
   "id": "37ecd780-483c-4143-a46f-2998299d28ac",
   "metadata": {},
   "outputs": [],
   "source": [
    "# Install Libraries\n",
    "!pip install boto3 sagemaker pandas --quiet"
   ]
  },
  {
   "cell_type": "code",
   "execution_count": 2,
   "id": "b5ef8246-d33c-4592-aa85-accf9b2cb2aa",
   "metadata": {},
   "outputs": [
    {
     "name": "stdout",
     "output_type": "stream",
     "text": [
      "sagemaker.config INFO - Not applying SDK defaults from location: /etc/xdg/sagemaker/config.yaml\n",
      "sagemaker.config INFO - Not applying SDK defaults from location: /home/sagemaker-user/.config/sagemaker/config.yaml\n"
     ]
    }
   ],
   "source": [
    "# Import Libraries\n",
    "from datetime import datetime, timezone\n",
    "import pandas as pd\n",
    "import matplotlib.pyplot as plt\n",
    "import boto3\n",
    "import sagemaker\n",
    "from sagemaker.feature_store.feature_group import FeatureGroup\n",
    "import time\n",
    "\n",
    "# Suppress specific DeprecationWarning\n",
    "import warnings\n",
    "warnings.filterwarnings(\"ignore\", category=DeprecationWarning)"
   ]
  },
  {
   "cell_type": "markdown",
   "id": "9ce495f9-d5f3-4d48-94cb-de21141caad4",
   "metadata": {},
   "source": [
    "### Feature Store Environment"
   ]
  },
  {
   "cell_type": "code",
   "execution_count": 3,
   "id": "27ebc4cd-4667-4439-ab92-6ff3a1de5586",
   "metadata": {},
   "outputs": [],
   "source": [
    "# Feature Store Setup: Environment Initialization & Data Preparation\n",
    "# Initialize SageMaker session and role\n",
    "region = sagemaker.Session().boto_region_name\n",
    "boto_session = boto3.Session(region_name=region)\n",
    "sagemaker_client = boto_session.client(\"sagemaker\")\n",
    "sagemaker_session = sagemaker.Session(boto_session=boto_session, sagemaker_client=sagemaker_client)\n",
    "role = sagemaker.get_execution_role()\n",
    "\n",
    "# Constants\n",
    "bucket = sagemaker_session.default_bucket()\n",
    "prefix = \"sagemaker/feature-store/cardio\"\n",
    "s3_uri = f\"s3://{bucket}/{prefix}/\"\n",
    "feature_group_base = \"cardio\"\n",
    "\n",
    "# Load engineered dataset\n",
    "df = pd.read_csv(\"cardio_engineered.csv\")\n",
    "\n",
    "# Ensure 'id' exists and is unique\n",
    "if 'id' not in df.columns:\n",
    "    df[\"id\"] = range(1, len(df) + 1)\n",
    "assert df['id'].is_unique, \"🚨 The 'id' column must contain unique values.\"\n",
    "\n",
    "# Add event_time column using timezone-aware timestamp\n",
    "df[\"event_time\"] = datetime.now(timezone.utc).strftime(\"%Y-%m-%dT%H:%M:%SZ\")\n",
    "\n",
    "# Drop duplicate records\n",
    "df = df.drop_duplicates(subset=[\"id\"])"
   ]
  },
  {
   "cell_type": "markdown",
   "id": "47ed2d9e-4500-49b6-bd33-38be5aeddc3a",
   "metadata": {},
   "source": [
    "### Feature Group Creation & Ingestion"
   ]
  },
  {
   "cell_type": "code",
   "execution_count": 4,
   "id": "59198687-ecb6-4ae2-afaa-5bbfbdfa4737",
   "metadata": {},
   "outputs": [
    {
     "name": "stdout",
     "output_type": "stream",
     "text": [
      "Creating Feature Group: cardio-demographics\n",
      "Feature group 'cardio-demographics' already exists. Skipping creation.\n",
      "Creating Feature Group: cardio-vitals\n",
      "Feature group 'cardio-vitals' already exists. Skipping creation.\n",
      "Creating Feature Group: cardio-labs-lifestyle\n",
      "Feature group 'cardio-labs-lifestyle' already exists. Skipping creation.\n",
      "Creating Feature Group: cardio-target\n",
      "Feature group 'cardio-target' already exists. Skipping creation.\n"
     ]
    }
   ],
   "source": [
    "# Feature Store: Create and Ingest Feature Groups\n",
    "# Define logical groupings of features\n",
    "feature_groups_definitions = {\n",
    "    f\"{feature_group_base}-demographics\": [\"id\", \"age\", \"gender\", \"age_group\", \"event_time\"],\n",
    "    f\"{feature_group_base}-vitals\": [\"id\", \"height\", \"weight\", \"bmi\", \"systolic_bp\", \"diastolic_bp\", \"pulse_pressure\", \"is_hypertensive\", \"event_time\"],\n",
    "    f\"{feature_group_base}-labs-lifestyle\": [\"id\", \"cholesterol\", \"gluc\", \"smoke\", \"alco\", \"active\", \"chol_bmi_ratio\", \"lifestyle_score\", \"event_time\"],\n",
    "    f\"{feature_group_base}-target\": [\"id\", \"cardio\", \"event_time\"]\n",
    "}\n",
    "\n",
    "# Create and ingest each feature group\n",
    "for group_name, features in feature_groups_definitions.items():\n",
    "    print(f\"Creating Feature Group: {group_name}\")\n",
    "    fg = FeatureGroup(name=group_name, sagemaker_session=sagemaker_session)\n",
    "\n",
    "    try:\n",
    "        fg.describe()\n",
    "        print(f\"Feature group '{group_name}' already exists. Skipping creation.\")\n",
    "        continue\n",
    "    except Exception:\n",
    "        pass  # Proceed if the feature group does not exist\n",
    "\n",
    "    fg.load_feature_definitions(data_frame=df[features])\n",
    "\n",
    "    fg.create(\n",
    "        s3_uri=s3_uri,\n",
    "        record_identifier_name=\"id\",\n",
    "        event_time_feature_name=\"event_time\",\n",
    "        role_arn=role,\n",
    "        enable_online_store=True\n",
    "    )\n",
    "\n",
    "    # Wait until the feature group is active\n",
    "    status = None\n",
    "    while status != \"Created\":\n",
    "        status = fg.describe().get(\"FeatureGroupStatus\")\n",
    "        print(f\"⏳ Waiting for {group_name} → Current status: {status}\")\n",
    "        time.sleep(15)\n",
    "    \n",
    "    print(f\"Feature group '{group_name}' is now active.\")\n",
    "\n",
    "    # Ingest the data\n",
    "    fg.ingest(data_frame=df[features], max_workers=3, wait=True)\n",
    "    print(f\"Ingestion completed for: {group_name}\")"
   ]
  },
  {
   "cell_type": "markdown",
   "id": "02ceb486-1346-4cea-a07e-748e5c79de53",
   "metadata": {},
   "source": [
    "These feature groups were created to organize the dataset into meaningful clinical categories that support interpretability and modularity. The demographics group contains age, gender, and age group, which are fundamental population risk indicators. The vitals group includes physical health metrics like height, weight, BMI, blood pressure, pulse pressure, and a hypertension flag, which are key signals for cardiovascular stress. The labs and lifestyle group captures metabolic and behavioral factors such as cholesterol, glucose, smoking, alcohol use, activity level, and engineered ratios like cholesterol-to-BMI and a lifestyle risk score. The target group holds the outcome label for cardiovascular disease. Structuring the data this way enables easier experimentation, model explainability, and scalable management of features across development and production."
   ]
  },
  {
   "cell_type": "markdown",
   "id": "1df507e1-a56d-42b0-9dad-0d2418328b80",
   "metadata": {},
   "source": [
    "#### Preview Query via Athena"
   ]
  },
  {
   "cell_type": "code",
   "execution_count": 5,
   "id": "a93c6e5f-6cb0-4e69-9330-a79e88e0208b",
   "metadata": {},
   "outputs": [
    {
     "data": {
      "text/html": [
       "<div>\n",
       "<style scoped>\n",
       "    .dataframe tbody tr th:only-of-type {\n",
       "        vertical-align: middle;\n",
       "    }\n",
       "\n",
       "    .dataframe tbody tr th {\n",
       "        vertical-align: top;\n",
       "    }\n",
       "\n",
       "    .dataframe thead th {\n",
       "        text-align: right;\n",
       "    }\n",
       "</style>\n",
       "<table border=\"1\" class=\"dataframe\">\n",
       "  <thead>\n",
       "    <tr style=\"text-align: right;\">\n",
       "      <th></th>\n",
       "      <th>id</th>\n",
       "      <th>cardio</th>\n",
       "      <th>event_time</th>\n",
       "      <th>write_time</th>\n",
       "      <th>api_invocation_time</th>\n",
       "      <th>is_deleted</th>\n",
       "    </tr>\n",
       "  </thead>\n",
       "  <tbody>\n",
       "    <tr>\n",
       "      <th>0</th>\n",
       "      <td>45616</td>\n",
       "      <td>1</td>\n",
       "      <td>2025-05-24T08:54:17Z</td>\n",
       "      <td>2025-05-24 09:18:03.885</td>\n",
       "      <td>2025-05-24 09:12:16.000</td>\n",
       "      <td>False</td>\n",
       "    </tr>\n",
       "    <tr>\n",
       "      <th>1</th>\n",
       "      <td>22816</td>\n",
       "      <td>1</td>\n",
       "      <td>2025-05-24T08:54:17Z</td>\n",
       "      <td>2025-05-24 09:18:03.885</td>\n",
       "      <td>2025-05-24 09:12:16.000</td>\n",
       "      <td>False</td>\n",
       "    </tr>\n",
       "    <tr>\n",
       "      <th>2</th>\n",
       "      <td>22827</td>\n",
       "      <td>0</td>\n",
       "      <td>2025-05-24T08:54:17Z</td>\n",
       "      <td>2025-05-24 09:18:03.885</td>\n",
       "      <td>2025-05-24 09:12:16.000</td>\n",
       "      <td>False</td>\n",
       "    </tr>\n",
       "    <tr>\n",
       "      <th>3</th>\n",
       "      <td>31</td>\n",
       "      <td>1</td>\n",
       "      <td>2025-05-24T08:54:17Z</td>\n",
       "      <td>2025-05-24 09:17:56.840</td>\n",
       "      <td>2025-05-24 09:12:15.000</td>\n",
       "      <td>False</td>\n",
       "    </tr>\n",
       "    <tr>\n",
       "      <th>4</th>\n",
       "      <td>45644</td>\n",
       "      <td>1</td>\n",
       "      <td>2025-05-24T08:54:17Z</td>\n",
       "      <td>2025-05-24 09:18:03.885</td>\n",
       "      <td>2025-05-24 09:12:16.000</td>\n",
       "      <td>False</td>\n",
       "    </tr>\n",
       "  </tbody>\n",
       "</table>\n",
       "</div>"
      ],
      "text/plain": [
       "      id  cardio            event_time               write_time  \\\n",
       "0  45616       1  2025-05-24T08:54:17Z  2025-05-24 09:18:03.885   \n",
       "1  22816       1  2025-05-24T08:54:17Z  2025-05-24 09:18:03.885   \n",
       "2  22827       0  2025-05-24T08:54:17Z  2025-05-24 09:18:03.885   \n",
       "3     31       1  2025-05-24T08:54:17Z  2025-05-24 09:17:56.840   \n",
       "4  45644       1  2025-05-24T08:54:17Z  2025-05-24 09:18:03.885   \n",
       "\n",
       "       api_invocation_time  is_deleted  \n",
       "0  2025-05-24 09:12:16.000       False  \n",
       "1  2025-05-24 09:12:16.000       False  \n",
       "2  2025-05-24 09:12:16.000       False  \n",
       "3  2025-05-24 09:12:15.000       False  \n",
       "4  2025-05-24 09:12:16.000       False  "
      ]
     },
     "execution_count": 5,
     "metadata": {},
     "output_type": "execute_result"
    }
   ],
   "source": [
    "# Query any feature group via Athena\n",
    "query_fg = FeatureGroup(name=\"cardio-target\", sagemaker_session=sagemaker_session)\n",
    "query = query_fg.athena_query()\n",
    "query_string = f'SELECT * FROM \"{query.table_name}\" LIMIT 10;'\n",
    "query.run(query_string=query_string, output_location=s3_uri)\n",
    "query.wait()\n",
    "df_results = query.as_dataframe()\n",
    "df_results.head()"
   ]
  },
  {
   "cell_type": "code",
   "execution_count": 7,
   "id": "5c6fb275-8d2c-4862-a63b-6e52e5b120af",
   "metadata": {},
   "outputs": [
    {
     "name": "stdout",
     "output_type": "stream",
     "text": [
      "upload: ./cardio_engineered_feature_store_setup.ipynb to s3://sagemaker-us-east-1-531690656306/sagemaker/feature-store/cardio_engineered_feature_store_setup.ipynb\n"
     ]
    }
   ],
   "source": [
    "# Save feature group to S3\n",
    "!aws s3 cp cardio_engineered_feature_store_setup.ipynb s3://sagemaker-us-east-1-531690656306/sagemaker/feature-store/cardio_engineered_feature_store_setup.ipynb"
   ]
  }
 ],
 "metadata": {
  "kernelspec": {
   "display_name": "Python 3 (ipykernel)",
   "language": "python",
   "name": "python3"
  },
  "language_info": {
   "codemirror_mode": {
    "name": "ipython",
    "version": 3
   },
   "file_extension": ".py",
   "mimetype": "text/x-python",
   "name": "python",
   "nbconvert_exporter": "python",
   "pygments_lexer": "ipython3",
   "version": "3.12.9"
  }
 },
 "nbformat": 4,
 "nbformat_minor": 5
}
