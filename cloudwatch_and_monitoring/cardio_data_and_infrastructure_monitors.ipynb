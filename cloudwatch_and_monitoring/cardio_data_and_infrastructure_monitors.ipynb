{
 "cells": [
  {
   "cell_type": "markdown",
   "id": "d257bd79-0eaf-4674-a8c9-208dfe01b780",
   "metadata": {},
   "source": [
    "## Implement Data Monitors (Real-Time)"
   ]
  },
  {
   "cell_type": "code",
   "execution_count": 11,
   "id": "30318f4b-d037-45b6-8804-9ca10f640b6a",
   "metadata": {},
   "outputs": [],
   "source": [
    "# Imports\n",
    "import boto3\n",
    "import botocore\n",
    "import json\n",
    "import os\n",
    "from sagemaker import get_execution_role, Session\n",
    "from sagemaker.sklearn.model import SKLearnModel\n",
    "from sagemaker.model_monitor import DefaultModelMonitor, CronExpressionGenerator, DataCaptureConfig\n",
    "from datetime import datetime"
   ]
  },
  {
   "cell_type": "code",
   "execution_count": 12,
   "id": "b23c5aea-d465-425f-8029-0215dcf3ebb6",
   "metadata": {},
   "outputs": [],
   "source": [
    "# Initialize Session\n",
    "session = Session()\n",
    "role = get_execution_role()\n",
    "region = session.boto_region_name\n",
    "\n",
    "# Your Bucket and Paths\n",
    "bucket = 'sagemaker-us-east-1-531690656306'\n",
    "prefix = 'cardio_data'\n",
    "baseline_results_uri = f's3://{bucket}/{prefix}/baseline-results'\n",
    "monitor_output_uri = f's3://{bucket}/{prefix}/monitoring/reports'\n",
    "\n",
    "# Use your deployed endpoint\n",
    "endpoint_name = 'cardio-logistic-monitor-endpoint'"
   ]
  },
  {
   "cell_type": "code",
   "execution_count": 13,
   "id": "c0611f33-03c5-4ab5-8ad9-94d18cbb10f2",
   "metadata": {},
   "outputs": [
    {
     "name": "stdout",
     "output_type": "stream",
     "text": [
      "Endpoint 'cardio-logistic-monitor-endpoint' status: InService\n"
     ]
    }
   ],
   "source": [
    "# Verify that endpoint exist\n",
    "sm_client = boto3.client('sagemaker', region_name='us-east-1')\n",
    "\n",
    "response = sm_client.describe_endpoint(EndpointName=endpoint_name)\n",
    "status = response['EndpointStatus']\n",
    "print(f\"Endpoint '{endpoint_name}' status: {status}\")"
   ]
  },
  {
   "cell_type": "markdown",
   "id": "45b35c78-1411-4c19-bcdc-76ada97853dc",
   "metadata": {},
   "source": [
    "### Create Data Monitor Schedule"
   ]
  },
  {
   "cell_type": "code",
   "execution_count": 14,
   "id": "1c0690f6-711d-4dbf-9aad-582d24056ea9",
   "metadata": {},
   "outputs": [],
   "source": [
    "# Create Monitor object\n",
    "monitor = DefaultModelMonitor(\n",
    "    role=role,\n",
    "    instance_count=1,\n",
    "    instance_type='ml.m5.xlarge',\n",
    "    volume_size_in_gb=20,\n",
    "    max_runtime_in_seconds=1200,\n",
    "    sagemaker_session=session\n",
    ")"
   ]
  },
  {
   "cell_type": "code",
   "execution_count": 15,
   "id": "19d8e569-a106-42fd-9ce7-2456e604244f",
   "metadata": {},
   "outputs": [
    {
     "name": "stdout",
     "output_type": "stream",
     "text": [
      "Real-time Data Quality Monitoring Schedule 'cardio-data-monitor-schedule-2025-06-11-04-39-12' successfully created!\n"
     ]
    }
   ],
   "source": [
    "# Generate unique schedule name (safe for reuse)\n",
    "current_time = datetime.now().strftime('%Y-%m-%d-%H-%M-%S')\n",
    "schedule_name = f\"cardio-data-monitor-schedule-{current_time}\"\n",
    "\n",
    "monitor.create_monitoring_schedule(\n",
    "    monitor_schedule_name=schedule_name,\n",
    "    endpoint_input=endpoint_name,\n",
    "    output_s3_uri=monitor_output_uri,\n",
    "    statistics=f'{baseline_results_uri}/statistics.json',\n",
    "    constraints=f'{baseline_results_uri}/constraints.json',\n",
    "    schedule_cron_expression=CronExpressionGenerator.daily(),\n",
    "    enable_cloudwatch_metrics=True\n",
    ")\n",
    "\n",
    "print(f\"Real-time Data Quality Monitoring Schedule '{schedule_name}' successfully created!\")"
   ]
  },
  {
   "cell_type": "code",
   "execution_count": 16,
   "id": "a070ba1e-5d2b-4f24-9e4d-ca05274dcb42",
   "metadata": {},
   "outputs": [
    {
     "name": "stdout",
     "output_type": "stream",
     "text": [
      "\n",
      "Active Monitoring Schedules:\n",
      "cardio-data-monitor-schedule-2025-06-11-04-39-12 : Pending\n",
      "cardio-data-monitor-schedule-2025-06-11-04-37-53 : Scheduled\n",
      "cardio-data-monitor-schedule-2025-06-11-03-31-48 : Scheduled\n"
     ]
    }
   ],
   "source": [
    "# Verify schedule exists\n",
    "sm_client = boto3.client('sagemaker', region_name=region)\n",
    "response = sm_client.list_monitoring_schedules()\n",
    "\n",
    "print(\"\\nActive Monitoring Schedules:\")\n",
    "for schedule in response['MonitoringScheduleSummaries']:\n",
    "    print(schedule['MonitoringScheduleName'], \":\", schedule['MonitoringScheduleStatus'])"
   ]
  },
  {
   "cell_type": "code",
   "execution_count": 17,
   "id": "47427d4f-5519-4230-9a67-cd8e150375a2",
   "metadata": {},
   "outputs": [
    {
     "name": "stdout",
     "output_type": "stream",
     "text": [
      "Deleted monitoring schedule: cardio-data-monitor-schedule-2025-06-11-04-37-53\n",
      "Deleted monitoring schedule: cardio-data-monitor-schedule-2025-06-11-03-31-48\n"
     ]
    }
   ],
   "source": [
    "# Delete other data monitor schedules\n",
    "sm_client = boto3.client(\"sagemaker\", region_name=\"us-east-1\")\n",
    "\n",
    "# List of older schedules to delete\n",
    "schedules_to_delete = [\n",
    "    \"cardio-data-monitor-schedule-2025-06-11-04-37-53\",\n",
    "    \"cardio-data-monitor-schedule-2025-06-11-03-31-48\"\n",
    "]\n",
    "\n",
    "for schedule_name in schedules_to_delete:\n",
    "    try:\n",
    "        sm_client.delete_monitoring_schedule(MonitoringScheduleName=schedule_name)\n",
    "        print(f\"Deleted monitoring schedule: {schedule_name}\")\n",
    "    except Exception as e:\n",
    "        print(f\"Failed to delete {schedule_name}: {e}\")"
   ]
  },
  {
   "cell_type": "markdown",
   "id": "91d4da25-bd28-4feb-912a-2b986784d520",
   "metadata": {},
   "source": [
    "-----"
   ]
  },
  {
   "cell_type": "markdown",
   "id": "2fead504-500c-45ab-b730-e560ffafd771",
   "metadata": {},
   "source": [
    "## Infrastructure Monitoring"
   ]
  },
  {
   "cell_type": "code",
   "execution_count": 18,
   "id": "5091f6c9-1c23-49e8-b4ae-e08b9fd0a3fa",
   "metadata": {},
   "outputs": [
    {
     "name": "stdout",
     "output_type": "stream",
     "text": [
      "Alarm created: cardio-logistic-monitor-endpoint-CPUUtilization-Alarm\n",
      "Alarm created: cardio-logistic-monitor-endpoint-MemoryUtilization-Alarm\n",
      "Alarm created: cardio-logistic-monitor-endpoint-DiskUtilization-Alarm\n",
      "Alarm created: cardio-logistic-monitor-endpoint-Invocation5XXErrors-Alarm\n"
     ]
    }
   ],
   "source": [
    "# Initialize Cloudwatch\n",
    "cloudwatch = boto3.client('cloudwatch', region_name='us-east-1')\n",
    "endpoint_name = 'cardio-logistic-monitor-endpoint'\n",
    "variant_name = 'AllTraffic'\n",
    "\n",
    "# Alarm creation helper\n",
    "def create_alarm(metric_name, threshold, comparison_operator='GreaterThanThreshold'):\n",
    "    alarm_name = f\"{endpoint_name}-{metric_name}-Alarm\"\n",
    "\n",
    "    cloudwatch.put_metric_alarm(\n",
    "        AlarmName=alarm_name,\n",
    "        MetricName=metric_name,\n",
    "        Namespace='AWS/SageMaker',\n",
    "        Dimensions=[\n",
    "            {'Name': 'EndpointName', 'Value': endpoint_name},\n",
    "            {'Name': 'VariantName', 'Value': variant_name}\n",
    "        ],\n",
    "        Statistic='Average',\n",
    "        Period=300,  # 5 minutes\n",
    "        EvaluationPeriods=1,\n",
    "        Threshold=threshold,\n",
    "        ComparisonOperator=comparison_operator,\n",
    "        ActionsEnabled=False,  # Can be toggled on later\n",
    "        AlarmDescription=f\"Alarm when {metric_name} exceeds {threshold}\",\n",
    "        Unit='Percent'\n",
    "    )\n",
    "    print(f\"Alarm created: {alarm_name}\")\n",
    "\n",
    "# Create alarms\n",
    "create_alarm('CPUUtilization', threshold=70)\n",
    "create_alarm('MemoryUtilization', threshold=75)\n",
    "create_alarm('DiskUtilization', threshold=80)\n",
    "create_alarm('Invocation5XXErrors', threshold=1, comparison_operator='GreaterThanOrEqualToThreshold')"
   ]
  },
  {
   "cell_type": "markdown",
   "id": "d85c33f6-8d92-4b4e-87c1-fb780ca6090f",
   "metadata": {},
   "source": [
    "### Save files into s3 bucket"
   ]
  },
  {
   "cell_type": "code",
   "execution_count": 19,
   "id": "1db9461d-234e-4c6b-a03b-0754fa4effe5",
   "metadata": {},
   "outputs": [
    {
     "name": "stdout",
     "output_type": "stream",
     "text": [
      "Upload successful: s3://sagemaker-us-east-1-531690656306/cardio_project/cardio_data_and_infrastructure_monitors.ipynb\n"
     ]
    }
   ],
   "source": [
    "s3 = boto3.client(\"s3\")\n",
    "bucket = \"sagemaker-us-east-1-531690656306\"\n",
    "local_file = \"cardio_data_and_infrastructure_monitors.ipynb\"\n",
    "s3_key = \"cardio_project/cardio_data_and_infrastructure_monitors.ipynb\"\n",
    "\n",
    "try:\n",
    "    s3.upload_file(local_file, bucket, s3_key)\n",
    "    print(\"Upload successful:\", f\"s3://{bucket}/{s3_key}\")\n",
    "except Exception as e:\n",
    "    print(\"Upload failed:\", e)"
   ]
  },
  {
   "cell_type": "code",
   "execution_count": 20,
   "id": "e8d071ce-4ede-4222-a119-03562d72b5b5",
   "metadata": {},
   "outputs": [
    {
     "name": "stdout",
     "output_type": "stream",
     "text": [
      "cardio_project/\n",
      "cardio_project/cardio_cloudwatch.ipynb\n",
      "cardio_project/cardio_cloudwatch_and_data_reports.ipynb\n",
      "cardio_project/cardio_cloudwatch_no_label.ipynb\n",
      "cardio_project/cardio_data_and_infrastructure_monitors.ipynb\n",
      "cardio_project/cardio_data_and_infrasturure_monitors.ipynb\n",
      "cardio_project/cardio_data_quality_monitoring_schedule_v2.ipynb\n",
      "cardio_project/cardio_data_split_v2.ipynb\n",
      "cardio_project/cardio_data_split_v3.ipynb\n",
      "cardio_project/cardio_delete_enpoint_and_monitoring_schedule.ipynb\n",
      "cardio_project/cardio_delete_enpoint_and_monitoring_schedule.py\n",
      "cardio_project/cardio_eda_and_feature_engineering.ipynb\n",
      "cardio_project/cardio_inference_transform_job.ipynb\n",
      "cardio_project/cardio_inference_transform_job_v2.ipynb\n",
      "cardio_project/cardio_logistic_baseline.ipynb\n",
      "cardio_project/cardio_logistic_baseline_complete.ipynb\n",
      "cardio_project/cardio_logistic_baseline_v2.ipynb\n",
      "cardio_project/cardio_model_evaluation_compare.ipynb\n",
      "cardio_project/cardio_model_monitoring.ipynb\n",
      "cardio_project/cardio_preprocessing.ipynb\n",
      "cardio_project/cardio_random_forest.ipynb\n",
      "cardio_project/cardio_random_forest_complete.ipynb\n",
      "cardio_project/cloudwatch_dashboard_setup.py\n"
     ]
    }
   ],
   "source": [
    "bucket = 'sagemaker-us-east-1-531690656306'\n",
    "prefix = 'cardio_project/'  # Adjust if needed\n",
    "\n",
    "s3 = boto3.client('s3')\n",
    "response = s3.list_objects_v2(Bucket=bucket, Prefix=prefix)\n",
    "\n",
    "if 'Contents' in response:\n",
    "    for obj in response['Contents']:\n",
    "        print(obj['Key'])\n",
    "else:\n",
    "    print(\"No files found in that prefix.\")"
   ]
  },
  {
   "cell_type": "code",
   "execution_count": 21,
   "id": "0f0d57fe-6372-4243-868a-dd3c646e2f78",
   "metadata": {},
   "outputs": [
    {
     "name": "stdout",
     "output_type": "stream",
     "text": [
      "\n",
      "Contents of model/:\n",
      "model/\n",
      "model/cardio_prod_no_label.csv\n",
      "model/inference.py\n",
      "model/logistic_model.pkl\n",
      "model/logistic_model.tar.gz\n",
      "\n",
      "Contents of cardio_data/:\n",
      "cardio_data/\n",
      "cardio_data/baseline-results/constraints.json\n",
      "cardio_data/baseline-results/statistics.json\n",
      "cardio_data/cardio_cleaned.csv\n",
      "cardio_data/cardio_engineered.csv\n",
      "cardio_data/cardio_engineered_clean.csv\n",
      "cardio_data/cardio_prod_no_label.csv\n",
      "cardio_data/cardio_prod_split40.csv\n",
      "cardio_data/cardio_test_split10.csv\n",
      "cardio_data/cardio_train.csv\n",
      "cardio_data/cardio_train_split40.csv\n",
      "cardio_data/cardio_val_split10.csv\n",
      "cardio_data/predictions/cardio_prod_no_label.csv.out\n"
     ]
    }
   ],
   "source": [
    "for prefix in ['model/', 'cardio_data/']:\n",
    "    response = s3.list_objects_v2(Bucket=bucket, Prefix=prefix)\n",
    "    print(f\"\\nContents of {prefix}:\")\n",
    "    if 'Contents' in response:\n",
    "        for obj in response['Contents']:\n",
    "            print(obj['Key'])\n",
    "    else:\n",
    "        print(\"No files found.\")"
   ]
  }
 ],
 "metadata": {
  "kernelspec": {
   "display_name": "Python (sagemaker-env)",
   "language": "python",
   "name": "sagemaker-env"
  },
  "language_info": {
   "codemirror_mode": {
    "name": "ipython",
    "version": 3
   },
   "file_extension": ".py",
   "mimetype": "text/x-python",
   "name": "python",
   "nbconvert_exporter": "python",
   "pygments_lexer": "ipython3",
   "version": "3.7.12"
  }
 },
 "nbformat": 4,
 "nbformat_minor": 5
}
