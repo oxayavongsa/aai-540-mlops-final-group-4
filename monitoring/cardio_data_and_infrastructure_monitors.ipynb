{
 "cells": [
  {
   "cell_type": "markdown",
   "id": "d257bd79-0eaf-4674-a8c9-208dfe01b780",
   "metadata": {},
   "source": [
    "## Implement Data Monitors (Real-Time)"
   ]
  },
  {
   "cell_type": "code",
   "execution_count": 32,
   "id": "30318f4b-d037-45b6-8804-9ca10f640b6a",
   "metadata": {},
   "outputs": [],
   "source": [
    "# Imports\n",
    "import boto3\n",
    "import botocore\n",
    "import json\n",
    "import os\n",
    "from sagemaker import get_execution_role, Session\n",
    "from sagemaker.sklearn.model import SKLearnModel\n",
    "from sagemaker.model_monitor import DefaultModelMonitor, CronExpressionGenerator, DataCaptureConfig\n",
    "from datetime import datetime"
   ]
  },
  {
   "cell_type": "code",
   "execution_count": 22,
   "id": "b23c5aea-d465-425f-8029-0215dcf3ebb6",
   "metadata": {},
   "outputs": [],
   "source": [
    "# Initialize Session\n",
    "session = Session()\n",
    "role = get_execution_role()\n",
    "region = session.boto_region_name\n",
    "\n",
    "# Your Bucket and Paths\n",
    "bucket = 'sagemaker-us-east-1-531690656306'\n",
    "prefix = 'cardio_data'\n",
    "baseline_results_uri = f's3://{bucket}/{prefix}/baseline-results'\n",
    "monitor_output_uri = f's3://{bucket}/{prefix}/monitoring/reports'\n",
    "\n",
    "# Use your deployed endpoint\n",
    "endpoint_name = 'cardio-logistic-monitor-endpoint'"
   ]
  },
  {
   "cell_type": "code",
   "execution_count": 23,
   "id": "c0611f33-03c5-4ab5-8ad9-94d18cbb10f2",
   "metadata": {},
   "outputs": [
    {
     "name": "stdout",
     "output_type": "stream",
     "text": [
      "Endpoint 'cardio-logistic-monitor-endpoint' status: InService\n"
     ]
    }
   ],
   "source": [
    "# Verify that endpoint exist\n",
    "sm_client = boto3.client('sagemaker', region_name='us-east-1')\n",
    "\n",
    "response = sm_client.describe_endpoint(EndpointName=endpoint_name)\n",
    "status = response['EndpointStatus']\n",
    "print(f\"Endpoint '{endpoint_name}' status: {status}\")"
   ]
  },
  {
   "cell_type": "markdown",
   "id": "45b35c78-1411-4c19-bcdc-76ada97853dc",
   "metadata": {},
   "source": [
    "### Create Data Monitor Schedule"
   ]
  },
  {
   "cell_type": "code",
   "execution_count": 24,
   "id": "1c0690f6-711d-4dbf-9aad-582d24056ea9",
   "metadata": {},
   "outputs": [],
   "source": [
    "# Create Monitor object\n",
    "monitor = DefaultModelMonitor(\n",
    "    role=role,\n",
    "    instance_count=1,\n",
    "    instance_type='ml.m5.xlarge',\n",
    "    volume_size_in_gb=20,\n",
    "    max_runtime_in_seconds=1200,\n",
    "    sagemaker_session=session\n",
    ")"
   ]
  },
  {
   "cell_type": "code",
   "execution_count": 25,
   "id": "19d8e569-a106-42fd-9ce7-2456e604244f",
   "metadata": {},
   "outputs": [
    {
     "name": "stdout",
     "output_type": "stream",
     "text": [
      "Real-time Data Quality Monitoring Schedule 'cardio-data-monitor-schedule-2025-06-11-02-20-29' successfully created!\n"
     ]
    }
   ],
   "source": [
    "# Generate unique schedule name (safe for reuse)\n",
    "current_time = datetime.now().strftime('%Y-%m-%d-%H-%M-%S')\n",
    "schedule_name = f\"cardio-data-monitor-schedule-{current_time}\"\n",
    "\n",
    "monitor.create_monitoring_schedule(\n",
    "    monitor_schedule_name=schedule_name,\n",
    "    endpoint_input=endpoint_name,\n",
    "    output_s3_uri=monitor_output_uri,\n",
    "    statistics=f'{baseline_results_uri}/statistics.json',\n",
    "    constraints=f'{baseline_results_uri}/constraints.json',\n",
    "    schedule_cron_expression=CronExpressionGenerator.daily(),\n",
    "    enable_cloudwatch_metrics=True\n",
    ")\n",
    "\n",
    "print(f\"Real-time Data Quality Monitoring Schedule '{schedule_name}' successfully created!\")"
   ]
  },
  {
   "cell_type": "code",
   "execution_count": 38,
   "id": "a070ba1e-5d2b-4f24-9e4d-ca05274dcb42",
   "metadata": {},
   "outputs": [
    {
     "name": "stdout",
     "output_type": "stream",
     "text": [
      "\n",
      "Active Monitoring Schedules:\n",
      "cardio-data-monitor-schedule-2025-06-11-02-20-29 : Scheduled\n"
     ]
    }
   ],
   "source": [
    "# Verify schedule exists\n",
    "sm_client = boto3.client('sagemaker', region_name=region)\n",
    "response = sm_client.list_monitoring_schedules()\n",
    "\n",
    "print(\"\\nActive Monitoring Schedules:\")\n",
    "for schedule in response['MonitoringScheduleSummaries']:\n",
    "    print(schedule['MonitoringScheduleName'], \":\", schedule['MonitoringScheduleStatus'])"
   ]
  },
  {
   "cell_type": "markdown",
   "id": "91d4da25-bd28-4feb-912a-2b986784d520",
   "metadata": {},
   "source": [
    "-----"
   ]
  },
  {
   "cell_type": "markdown",
   "id": "2fead504-500c-45ab-b730-e560ffafd771",
   "metadata": {},
   "source": [
    "## Infrastructure Monitoring"
   ]
  },
  {
   "cell_type": "code",
   "execution_count": 39,
   "id": "5091f6c9-1c23-49e8-b4ae-e08b9fd0a3fa",
   "metadata": {},
   "outputs": [
    {
     "name": "stdout",
     "output_type": "stream",
     "text": [
      "Alarm created: cardio-logistic-monitor-endpoint-CPUUtilization-Alarm\n",
      "Alarm created: cardio-logistic-monitor-endpoint-MemoryUtilization-Alarm\n",
      "Alarm created: cardio-logistic-monitor-endpoint-DiskUtilization-Alarm\n",
      "Alarm created: cardio-logistic-monitor-endpoint-Invocation5XXErrors-Alarm\n"
     ]
    }
   ],
   "source": [
    "# Initialize Cloudwatch\n",
    "cloudwatch = boto3.client('cloudwatch', region_name='us-east-1')\n",
    "endpoint_name = 'cardio-logistic-monitor-endpoint'\n",
    "variant_name = 'AllTraffic'\n",
    "\n",
    "# Alarm creation helper\n",
    "def create_alarm(metric_name, threshold, comparison_operator='GreaterThanThreshold'):\n",
    "    alarm_name = f\"{endpoint_name}-{metric_name}-Alarm\"\n",
    "\n",
    "    cloudwatch.put_metric_alarm(\n",
    "        AlarmName=alarm_name,\n",
    "        MetricName=metric_name,\n",
    "        Namespace='AWS/SageMaker',\n",
    "        Dimensions=[\n",
    "            {'Name': 'EndpointName', 'Value': endpoint_name},\n",
    "            {'Name': 'VariantName', 'Value': variant_name}\n",
    "        ],\n",
    "        Statistic='Average',\n",
    "        Period=300,  # 5 minutes\n",
    "        EvaluationPeriods=1,\n",
    "        Threshold=threshold,\n",
    "        ComparisonOperator=comparison_operator,\n",
    "        ActionsEnabled=False,  # Can be toggled on later\n",
    "        AlarmDescription=f\"Alarm when {metric_name} exceeds {threshold}\",\n",
    "        Unit='Percent'\n",
    "    )\n",
    "    print(f\"Alarm created: {alarm_name}\")\n",
    "\n",
    "# Create alarms\n",
    "create_alarm('CPUUtilization', threshold=70)\n",
    "create_alarm('MemoryUtilization', threshold=75)\n",
    "create_alarm('DiskUtilization', threshold=80)\n",
    "create_alarm('Invocation5XXErrors', threshold=1, comparison_operator='GreaterThanOrEqualToThreshold')"
   ]
  },
  {
   "cell_type": "markdown",
   "id": "d85c33f6-8d92-4b4e-87c1-fb780ca6090f",
   "metadata": {},
   "source": [
    "### Save files into s3 bucket"
   ]
  },
  {
   "cell_type": "code",
   "execution_count": 40,
   "id": "1db9461d-234e-4c6b-a03b-0754fa4effe5",
   "metadata": {},
   "outputs": [
    {
     "name": "stdout",
     "output_type": "stream",
     "text": [
      "upload: ./cardio_data_and_infrastructure_monitors.ipynb to s3://sagemaker-us-east-1-531690656306/cardio_project/cardio_data_and_infrastructure_monitors.ipynb\n"
     ]
    },
    {
     "data": {
      "text/plain": [
       "0"
      ]
     },
     "execution_count": 40,
     "metadata": {},
     "output_type": "execute_result"
    }
   ],
   "source": [
    "bucket = 'sagemaker-us-east-1-531690656306'\n",
    "folder = 'cardio_project/'\n",
    "\n",
    "# Upload the notebook file\n",
    "os.system(f\"aws s3 cp cardio_data_and_infrastructure_monitors.ipynb s3://{bucket}/{folder}cardio_data_and_infrastructure_monitors.ipynb\")"
   ]
  },
  {
   "cell_type": "code",
   "execution_count": null,
   "id": "e8d071ce-4ede-4222-a119-03562d72b5b5",
   "metadata": {},
   "outputs": [],
   "source": []
  },
  {
   "cell_type": "code",
   "execution_count": null,
   "id": "0f0d57fe-6372-4243-868a-dd3c646e2f78",
   "metadata": {},
   "outputs": [],
   "source": []
  }
 ],
 "metadata": {
  "kernelspec": {
   "display_name": "Python (sagemaker-env)",
   "language": "python",
   "name": "sagemaker-env"
  },
  "language_info": {
   "codemirror_mode": {
    "name": "ipython",
    "version": 3
   },
   "file_extension": ".py",
   "mimetype": "text/x-python",
   "name": "python",
   "nbconvert_exporter": "python",
   "pygments_lexer": "ipython3",
   "version": "3.7.12"
  }
 },
 "nbformat": 4,
 "nbformat_minor": 5
}
