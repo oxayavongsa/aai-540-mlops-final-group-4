{
 "cells": [
  {
   "cell_type": "markdown",
   "id": "d257bd79-0eaf-4674-a8c9-208dfe01b780",
   "metadata": {},
   "source": [
    "## Implement Data Monitors"
   ]
  },
  {
   "cell_type": "code",
   "execution_count": 49,
   "id": "30318f4b-d037-45b6-8804-9ca10f640b6a",
   "metadata": {},
   "outputs": [],
   "source": [
    "# Imports\n",
    "import boto3\n",
    "import botocore\n",
    "import json\n",
    "from sagemaker import get_execution_role, Session\n",
    "from sagemaker.sklearn.model import SKLearnModel\n",
    "from sagemaker.model_monitor import DefaultModelMonitor, CronExpressionGenerator, DataCaptureConfig"
   ]
  },
  {
   "cell_type": "code",
   "execution_count": 50,
   "id": "b23c5aea-d465-425f-8029-0215dcf3ebb6",
   "metadata": {},
   "outputs": [],
   "source": [
    "# Initialize session and role\n",
    "session = Session()\n",
    "role = get_execution_role()\n",
    "region = 'us-east-1'\n",
    "bucket = 'sagemaker-us-east-1-531690656306'"
   ]
  },
  {
   "cell_type": "code",
   "execution_count": 54,
   "id": "c0611f33-03c5-4ab5-8ad9-94d18cbb10f2",
   "metadata": {},
   "outputs": [
    {
     "name": "stdout",
     "output_type": "stream",
     "text": [
      "Endpoint 'cardio-logistic-monitor-endpoint' status: InService\n"
     ]
    }
   ],
   "source": [
    "# Verify that endpoint exist\n",
    "response = sm_client.describe_endpoint(EndpointName=endpoint_name)\n",
    "status = response['EndpointStatus']\n",
    "print(f\"Endpoint '{endpoint_name}' status: {status}\")"
   ]
  },
  {
   "cell_type": "markdown",
   "id": "45b35c78-1411-4c19-bcdc-76ada97853dc",
   "metadata": {},
   "source": [
    "### Create Data Monitor Schedule"
   ]
  },
  {
   "cell_type": "code",
   "execution_count": 55,
   "id": "19d8e569-a106-42fd-9ce7-2456e604244f",
   "metadata": {},
   "outputs": [
    {
     "name": "stdout",
     "output_type": "stream",
     "text": [
      "Data monitor schedule 'cardio-data-monitor-schedule' successfully created.\n"
     ]
    }
   ],
   "source": [
    "# Create monitor object\n",
    "monitor = DefaultModelMonitor(\n",
    "    role=role,\n",
    "    instance_count=1,\n",
    "    instance_type='ml.m5.xlarge',\n",
    "    volume_size_in_gb=20,\n",
    "    max_runtime_in_seconds=1200,  # Safe shorter run time\n",
    "    sagemaker_session=session\n",
    ")\n",
    "\n",
    "# S3 Paths\n",
    "baseline_output_uri = f's3://sagemaker-us-east-1-531690656306/cardio_data/baseline-results'\n",
    "monitor_output_uri = f's3://sagemaker-us-east-1-531690656306/cardio_data/monitoring/reports'\n",
    "\n",
    "# Monitoring schedule\n",
    "schedule_name = 'cardio-data-monitor-schedule'\n",
    "\n",
    "monitor.create_monitoring_schedule(\n",
    "    monitor_schedule_name=schedule_name,\n",
    "    endpoint_input=endpoint_name,\n",
    "    output_s3_uri=monitor_output_uri,\n",
    "    statistics=baseline_output_uri + '/statistics.json',\n",
    "    constraints=baseline_output_uri + '/constraints.json',\n",
    "    schedule_cron_expression=CronExpressionGenerator.daily(),\n",
    "    enable_cloudwatch_metrics=True\n",
    ")\n",
    "\n",
    "print(f\"Data monitor schedule '{schedule_name}' successfully created.\")"
   ]
  },
  {
   "cell_type": "markdown",
   "id": "2fead504-500c-45ab-b730-e560ffafd771",
   "metadata": {},
   "source": [
    "## Infrastructure Monitoring"
   ]
  },
  {
   "cell_type": "code",
   "execution_count": 56,
   "id": "5091f6c9-1c23-49e8-b4ae-e08b9fd0a3fa",
   "metadata": {},
   "outputs": [
    {
     "name": "stdout",
     "output_type": "stream",
     "text": [
      "Alarm created for CPUUtilization\n",
      "Alarm created for MemoryUtilization\n",
      "Alarm created for DiskUtilization\n"
     ]
    }
   ],
   "source": [
    "# Initialize CloudWatch client\n",
    "cloudwatch = boto3.client('cloudwatch', region_name='us-east-1')\n",
    "variant_name = 'AllTraffic'\n",
    "\n",
    "# Helper function to create alarms\n",
    "def create_alarm(metric_name, threshold, comparison='GreaterThanThreshold'):\n",
    "    alarm_name = f\"{endpoint_name}-{metric_name}-Alarm\"\n",
    "\n",
    "    response = cloudwatch.put_metric_alarm(\n",
    "        AlarmName=alarm_name,\n",
    "        MetricName=metric_name,\n",
    "        Namespace='AWS/SageMaker',\n",
    "        Dimensions=[\n",
    "            {'Name': 'EndpointName', 'Value': endpoint_name},\n",
    "            {'Name': 'VariantName', 'Value': variant_name}\n",
    "        ],\n",
    "        Statistic='Average',\n",
    "        Period=300,\n",
    "        EvaluationPeriods=1,\n",
    "        Threshold=threshold,\n",
    "        ComparisonOperator=comparison,\n",
    "        ActionsEnabled=False,\n",
    "        AlarmDescription=f\"Alarm when {metric_name} is above {threshold}%\"\n",
    "    )\n",
    "    print(f\"Alarm created for {metric_name}\")\n",
    "\n",
    "# Create CPU, Memory, Disk alarms\n",
    "create_alarm('CPUUtilization', threshold=70)\n",
    "create_alarm('MemoryUtilization', threshold=75)\n",
    "create_alarm('DiskUtilization', threshold=80)"
   ]
  },
  {
   "cell_type": "markdown",
   "id": "d85c33f6-8d92-4b4e-87c1-fb780ca6090f",
   "metadata": {},
   "source": [
    "### Save files into s3 bucket"
   ]
  },
  {
   "cell_type": "code",
   "execution_count": 59,
   "id": "1db9461d-234e-4c6b-a03b-0754fa4effe5",
   "metadata": {},
   "outputs": [
    {
     "name": "stdout",
     "output_type": "stream",
     "text": [
      "upload: ./cardio_model_monitoring.ipynb to s3://sagemaker-us-east-1-531690656306/cardio_project/cardio_data_and_infrasturure_monitors.ipynb\n"
     ]
    }
   ],
   "source": [
    "# Save notebook (.ipynb)\n",
    "!aws s3 cp cardio_model_monitoring.ipynb s3://{bucket}/{folder}cardio_data_and_infrasturure_monitors.ipynb"
   ]
  },
  {
   "cell_type": "code",
   "execution_count": null,
   "id": "70abd0a3-307e-4d6d-b935-b4229f0ce46e",
   "metadata": {},
   "outputs": [],
   "source": []
  }
 ],
 "metadata": {
  "kernelspec": {
   "display_name": "Python (sagemaker-env)",
   "language": "python",
   "name": "sagemaker-env"
  },
  "language_info": {
   "codemirror_mode": {
    "name": "ipython",
    "version": 3
   },
   "file_extension": ".py",
   "mimetype": "text/x-python",
   "name": "python",
   "nbconvert_exporter": "python",
   "pygments_lexer": "ipython3",
   "version": "3.7.12"
  }
 },
 "nbformat": 4,
 "nbformat_minor": 5
}
