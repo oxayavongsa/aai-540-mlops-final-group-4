{
 "cells": [
  {
   "cell_type": "markdown",
   "id": "c9d0e5a9-d8bb-4a23-ae98-a2ed64877e08",
   "metadata": {},
   "source": [
    "### Delete Endpoint and Monitoring Schedule (if needed)"
   ]
  },
  {
   "cell_type": "code",
   "execution_count": 12,
   "id": "0e0e6148-be89-4cd2-969d-0a25f0da162c",
   "metadata": {},
   "outputs": [
    {
     "name": "stdout",
     "output_type": "stream",
     "text": [
      "Monitoring schedule 'cardio-data-monitor-schedule' not found.\n",
      "Endpoint 'cardio-logistic-monitor-endpoint' not found.\n",
      "Endpoint config 'cardio-logistic-monitor-endpoint' not found.\n"
     ]
    }
   ],
   "source": [
    "import boto3\n",
    "from botocore.exceptions import ClientError\n",
    "\n",
    "# Initialize SageMaker client\n",
    "region = 'us-east-1'\n",
    "sm_client = boto3.client('sagemaker', region_name=region)\n",
    "\n",
    "# Names\n",
    "endpoint_name = 'cardio-logistic-monitor-endpoint'\n",
    "monitor_schedule_name = 'cardio-data-monitor-schedule'\n",
    "endpoint_config_name = endpoint_name\n",
    "\n",
    "# Delete Monitoring Schedule first\n",
    "try:\n",
    "    sm_client.delete_monitoring_schedule(MonitoringScheduleName=monitor_schedule_name)\n",
    "    print(f\"Deleted monitoring schedule: {monitor_schedule_name}\")\n",
    "except ClientError as e:\n",
    "    if 'ResourceNotFound' in str(e):\n",
    "        print(f\"Monitoring schedule '{monitor_schedule_name}' not found.\")\n",
    "    else:\n",
    "        print(f\"Error deleting monitoring schedule: {e}\")\n",
    "\n",
    "# Delete Endpoint\n",
    "try:\n",
    "    sm_client.delete_endpoint(EndpointName=endpoint_name)\n",
    "    print(f\"Deleted endpoint: {endpoint_name}\")\n",
    "except ClientError as e:\n",
    "    if 'Could not find endpoint' in str(e):\n",
    "        print(f\"Endpoint '{endpoint_name}' not found.\")\n",
    "    else:\n",
    "        print(f\"Error deleting endpoint: {e}\")\n",
    "\n",
    "# Delete Endpoint Config\n",
    "try:\n",
    "    sm_client.delete_endpoint_config(EndpointConfigName=endpoint_config_name)\n",
    "    print(f\"Deleted endpoint config: {endpoint_config_name}\")\n",
    "except ClientError as e:\n",
    "    if 'Could not find endpoint configuration' in str(e):\n",
    "        print(f\"Endpoint config '{endpoint_config_name}' not found.\")\n",
    "    else:\n",
    "        print(f\"Error deleting endpoint config: {e}\")"
   ]
  },
  {
   "cell_type": "code",
   "execution_count": 13,
   "id": "34efd883-c737-47da-8c13-628b7f0e2b0c",
   "metadata": {},
   "outputs": [
    {
     "name": "stdout",
     "output_type": "stream",
     "text": [
      "File successfully saved to S3 as cardio_delete_enpoint_and_monitoring_schedule.py\n"
     ]
    }
   ],
   "source": [
    "# Write the cleanup code to a .py file\n",
    "cleanup_code = \"\"\"\n",
    "import boto3\n",
    "from botocore.exceptions import ClientError\n",
    "\n",
    "# Initialize SageMaker client\n",
    "region = 'us-east-1'\n",
    "sm_client = boto3.client('sagemaker', region_name=region)\n",
    "\n",
    "# Names\n",
    "endpoint_name = 'cardio-logistic-monitor-endpoint'\n",
    "monitor_schedule_name = 'cardio-data-monitor-schedule'\n",
    "endpoint_config_name = endpoint_name\n",
    "\n",
    "# Delete Monitoring Schedule first\n",
    "try:\n",
    "    sm_client.delete_monitoring_schedule(MonitoringScheduleName=monitor_schedule_name)\n",
    "    print(f\"Deleted monitoring schedule: {monitor_schedule_name}\")\n",
    "except ClientError as e:\n",
    "    if 'ResourceNotFound' in str(e):\n",
    "        print(f\"Monitoring schedule '{monitor_schedule_name}' not found.\")\n",
    "    else:\n",
    "        print(f\"Error deleting monitoring schedule: {e}\")\n",
    "\n",
    "# Delete Endpoint\n",
    "try:\n",
    "    sm_client.delete_endpoint(EndpointName=endpoint_name)\n",
    "    print(f\"Deleted endpoint: {endpoint_name}\")\n",
    "except ClientError as e:\n",
    "    if 'Could not find endpoint' in str(e):\n",
    "        print(f\"⚠ Endpoint '{endpoint_name}' not found.\")\n",
    "    else:\n",
    "        print(f\"⚠ Error deleting endpoint: {e}\")\n",
    "\n",
    "# Delete Endpoint Config\n",
    "try:\n",
    "    sm_client.delete_endpoint_config(EndpointConfigName=endpoint_config_name)\n",
    "    print(f\"Deleted endpoint config: {endpoint_config_name}\")\n",
    "except ClientError as e:\n",
    "    if 'Could not find endpoint configuration' in str(e):\n",
    "        print(f\"Endpoint config '{endpoint_config_name}' not found.\")\n",
    "    else:\n",
    "        print(f\"Error deleting endpoint config: {e}\")\n",
    "\"\"\"\n",
    "\n",
    "# Save to local file with requested filename\n",
    "file_name = \"cardio_delete_enpoint_and_monitoring_schedule.py\"\n",
    "\n",
    "with open(file_name, \"w\") as f:\n",
    "    f.write(cleanup_code)\n",
    "\n",
    "# Upload to S3\n",
    "bucket = 'sagemaker-us-east-1-531690656306'\n",
    "folder = 'cardio_project/'\n",
    "\n",
    "s3_client = boto3.client('s3')\n",
    "s3_client.upload_file(file_name, bucket, folder + file_name)\n",
    "\n",
    "print(\"File successfully saved to S3 as cardio_delete_enpoint_and_monitoring_schedule.py\")"
   ]
  },
  {
   "cell_type": "code",
   "execution_count": 14,
   "id": "264f57d6-ece8-4aff-be15-365a537fde10",
   "metadata": {},
   "outputs": [
    {
     "name": "stdout",
     "output_type": "stream",
     "text": [
      "Notebook cardio_delete_enpoint_and_monitoring_schedule.ipynb successfully uploaded to S3.\n"
     ]
    }
   ],
   "source": [
    "# Initialize boto3 client\n",
    "s3_client = boto3.client('s3')\n",
    "bucket = 'sagemaker-us-east-1-531690656306'\n",
    "folder = 'cardio_project/'\n",
    "\n",
    "# Save notebook file\n",
    "notebook_file = \"cardio_delete_enpoint_and_monitoring_schedule.ipynb\"\n",
    "\n",
    "# Upload notebook file to S3\n",
    "s3_client.upload_file(notebook_file, bucket, folder + notebook_file)\n",
    "print(f\"Notebook {notebook_file} successfully uploaded to S3.\")"
   ]
  },
  {
   "cell_type": "code",
   "execution_count": null,
   "id": "3f3e1beb-882d-4866-8d9f-259bb980013a",
   "metadata": {},
   "outputs": [],
   "source": []
  }
 ],
 "metadata": {
  "kernelspec": {
   "display_name": "Python 3 (ipykernel)",
   "language": "python",
   "name": "python3"
  },
  "language_info": {
   "codemirror_mode": {
    "name": "ipython",
    "version": 3
   },
   "file_extension": ".py",
   "mimetype": "text/x-python",
   "name": "python",
   "nbconvert_exporter": "python",
   "pygments_lexer": "ipython3",
   "version": "3.12.9"
  }
 },
 "nbformat": 4,
 "nbformat_minor": 5
}
